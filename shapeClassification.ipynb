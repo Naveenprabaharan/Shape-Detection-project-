{
  "nbformat": 4,
  "nbformat_minor": 0,
  "metadata": {
    "colab": {
      "name": "shapeClassification.ipynb",
      "provenance": [],
      "toc_visible": true
    },
    "kernelspec": {
      "name": "python3",
      "display_name": "Python 3"
    },
    "language_info": {
      "name": "python"
    }
  },
  "cells": [
    {
      "cell_type": "markdown",
      "metadata": {
        "id": "lIfnFiVndTH9"
      },
      "source": [
        "# Import Lib"
      ]
    },
    {
      "cell_type": "code",
      "metadata": {
        "colab": {
          "base_uri": "https://localhost:8080/"
        },
        "id": "oa04eZBJdK5z",
        "outputId": "bdecc12d-9a91-4517-8f94-f74c2363a49a"
      },
      "source": [
        "!pip install bing-image-downloader #install\n",
        "!mkdir images #make dir\n",
        "\n",
        "from bing_image_downloader import downloader #download image for train and test data\n",
        "import os #play around the folder\n",
        "import matplotlib.pyplot as plt #show output\n",
        "import numpy as np #mathematical operation\n",
        "from skimage.io import imread #image read\n",
        "from skimage.transform import resize #resize the image\n",
        "from sklearn.model_selection import train_test_split #split test train dataset\n",
        "from sklearn.model_selection import GridSearchCV #train model\n",
        "from sklearn import svm #predict the output\n",
        "from sklearn.metrics import accuracy_score,confusion_matrix #finding Accuracy\n",
        "import pickle #save a model"
      ],
      "execution_count": null,
      "outputs": [
        {
          "output_type": "stream",
          "name": "stdout",
          "text": [
            "Collecting bing-image-downloader\n",
            "  Downloading bing_image_downloader-1.1.1-py3-none-any.whl (5.7 kB)\n",
            "Installing collected packages: bing-image-downloader\n",
            "Successfully installed bing-image-downloader-1.1.1\n"
          ]
        }
      ]
    },
    {
      "cell_type": "markdown",
      "metadata": {
        "id": "l41PikswebU1"
      },
      "source": [
        "# Gathering data"
      ]
    },
    {
      "cell_type": "code",
      "metadata": {
        "colab": {
          "base_uri": "https://localhost:8080/"
        },
        "id": "saUDARw0ewoX",
        "outputId": "261cdc60-b172-4909-ddd3-9f02bef136d9"
      },
      "source": [
        "!pip install bing-image-downloader\n",
        "!mkdir images"
      ],
      "execution_count": null,
      "outputs": [
        {
          "output_type": "stream",
          "name": "stdout",
          "text": [
            "Requirement already satisfied: bing-image-downloader in /usr/local/lib/python3.7/dist-packages (1.1.1)\n",
            "mkdir: cannot create directory ‘images’: File exists\n"
          ]
        }
      ]
    },
    {
      "cell_type": "code",
      "metadata": {
        "colab": {
          "base_uri": "https://localhost:8080/"
        },
        "id": "REI_bbuTdaX6",
        "outputId": "588e9873-8ee0-40a3-d714-1eb11ba658fa"
      },
      "source": [
        "downloader.download(\"circle shape\",limit=40,output_dir=\"images\", adult_filter_off=True)\n",
        "downloader.download(\"square shape\",limit=40,output_dir=\"images\", adult_filter_off=True)\n",
        "downloader.download(\"triangle shape\",limit=40,output_dir=\"images\", adult_filter_off=True)\n",
        "downloader.download(\"star shape\",limit=40,output_dir=\"images\", adult_filter_off=True)"
      ],
      "execution_count": null,
      "outputs": [
        {
          "output_type": "stream",
          "name": "stdout",
          "text": [
            "[%] Downloading Images to /content/images/circle shape\n",
            "\n",
            "\n",
            "[!!]Indexing page: 1\n",
            "\n",
            "[%] Indexed 40 Images on Page 1.\n",
            "\n",
            "===============================================\n",
            "\n",
            "[%] Downloading Image #1 from https://dashingdiva.com.au/wp-content/uploads/2021/01/InShot_20210121_180111242.jpg\n",
            "[%] File Downloaded !\n",
            "\n",
            "[%] Downloading Image #2 from https://cdn.shopify.com/s/files/1/0034/8314/0209/products/Bluetooth-Speaker-Tronsmart-Element-Splash-7W-Deep-Bass-Round-Shape-True-Wireless-Stereo_994x994.jpg?v=1633462992\n",
            "[%] File Downloaded !\n",
            "\n",
            "[%] Downloading Image #3 from https://i.pinimg.com/736x/1f/4f/1f/1f4f1f562d2d60f2378350f1f28a4e06.jpg\n",
            "[%] File Downloaded !\n",
            "\n",
            "[%] Downloading Image #4 from https://images-na.ssl-images-amazon.com/images/I/914SPpDg7cL._AC_SX679_.jpg\n",
            "[%] File Downloaded !\n",
            "\n",
            "[%] Downloading Image #5 from https://i.pinimg.com/originals/ed/65/a7/ed65a7d0f9ff5937249ff92db12859f8.jpg\n",
            "[%] File Downloaded !\n",
            "\n",
            "[%] Downloading Image #6 from https://i.ebayimg.com/images/g/LRUAAOSwVYtbs~3E/s-l640.jpg\n",
            "[%] File Downloaded !\n",
            "\n",
            "[%] Downloading Image #7 from https://i.pinimg.com/originals/b2/dc/c7/b2dcc7ec3ac408d8424b556a99751d83.jpg\n",
            "[%] File Downloaded !\n",
            "\n",
            "[%] Downloading Image #8 from https://lh5.googleusercontent.com/proxy/a6WOIFcoh1lMAYhkPqDYoiKelgjFmxJyyydC-uIf2kY0oU4TWTUC7koiqi0KQ-A6YWHiDYUM1eXmf6kmeDJ9_gzB9sFfbeCWqRaqUngw2ei38RRASQdJkd9Kf97iPK-EfWQuPHDnP2_i5C7TKh8Co4t8Gp9NA8o5v6uoCHgelusqDuGc2rvc=w1200-h630-p-k-no-nu\n",
            "[%] File Downloaded !\n",
            "\n",
            "[%] Downloading Image #9 from https://img.ifunny.co/images/db0693df3ca2efa02dbabd1be0e3f666cfcf3c28dd45765d7298fc4b1ef83e31_1.jpg\n",
            "[%] File Downloaded !\n",
            "\n",
            "[%] Downloading Image #10 from https://i.pinimg.com/originals/62/63/91/62639162092d4e3926dcfa4a84bf4b5e.jpg\n",
            "[%] File Downloaded !\n",
            "\n",
            "[%] Downloading Image #11 from https://thumbs.dreamstime.com/z/print-185577701.jpg\n",
            "[%] File Downloaded !\n",
            "\n",
            "[%] Downloading Image #12 from https://i.pinimg.com/originals/e6/42/93/e64293b0c3b61aeb451dc18d42275dce.jpg\n",
            "[%] File Downloaded !\n",
            "\n",
            "[%] Downloading Image #13 from https://s9z9m9e2.stackpathcdn.com/wp-content/uploads/2020/03/beautiful-vintage-paperweight-cut-crystal-round-pink-diamond-shape-large-size-collectible-display-office-home-decor-5e77cc752-1536x1536.jpg\n",
            "[%] File Downloaded !\n",
            "\n",
            "[%] Downloading Image #14 from https://i.ebayimg.com/images/g/GmYAAOSwpw5bs~23/s-l640.jpg\n",
            "[%] File Downloaded !\n",
            "\n",
            "[%] Downloading Image #15 from http://cdn.shopify.com/s/files/1/0551/3379/8607/products/asset_551_transformation_1131_1200x1200.jpg?v=1622963842\n",
            "[%] File Downloaded !\n",
            "\n",
            "[%] Downloading Image #16 from http://worldkings.org/userfiles/upload/images/modules/news/2020/5/1/0_304z3.jpg\n",
            "[%] File Downloaded !\n",
            "\n",
            "[%] Downloading Image #17 from https://cdn.shopify.com/s/files/1/0551/3379/8607/products/asset_551_transformation_1132_53ca6e2b-8649-498d-85f0-6b6463664d31_1200x1200.jpg?v=1622963842\n",
            "[%] File Downloaded !\n",
            "\n",
            "[%] Downloading Image #18 from http://cdn.shopify.com/s/files/1/0551/3379/8607/products/asset_552_transformation_1133_b4c85316-1746-4990-9d66-85febcbdd36a_1200x1200.jpg?v=1622963842\n",
            "[%] File Downloaded !\n",
            "\n",
            "[%] Downloading Image #19 from https://i.pinimg.com/originals/45/a8/b8/45a8b8482961855456791a9ac3658e32.jpg\n",
            "[%] File Downloaded !\n",
            "\n",
            "[%] Downloading Image #20 from https://ph-static.z-dn.net/files/d09/9bd0f279445df9e0bf61677b2462f5fd.jpg\n",
            "[%] File Downloaded !\n",
            "\n",
            "[%] Downloading Image #21 from https://i.pinimg.com/originals/f3/4c/d5/f34cd549ea9d0c7df4b63d5784c8d2d5.jpg\n",
            "[%] File Downloaded !\n",
            "\n",
            "[%] Downloading Image #22 from https://m.media-amazon.com/images/I/711EBAye1HL._AC_UL1500_.jpg\n",
            "[%] File Downloaded !\n",
            "\n",
            "[%] Downloading Image #23 from https://s9z9m9e2.stackpathcdn.com/wp-content/uploads/2020/03/beautiful-vintage-paperweight-cut-crystal-round-pink-diamond-shape-large-size-collectible-display-office-home-decor-5e77cc6d1-2048x2048.jpg\n",
            "[%] File Downloaded !\n",
            "\n",
            "[%] Downloading Image #24 from https://s9z9m9e2.stackpathcdn.com/wp-content/uploads/2020/03/beautiful-vintage-paperweight-cut-crystal-round-pink-diamond-shape-large-size-collectible-display-office-home-decor-5e77cc8c5-2048x2048.jpg\n",
            "[%] File Downloaded !\n",
            "\n",
            "[%] Downloading Image #25 from https://images-na.ssl-images-amazon.com/images/I/612yYv4lO2L._AC_UL1000_.jpg\n",
            "[%] File Downloaded !\n",
            "\n",
            "[%] Downloading Image #26 from https://www.limerickleader.ie/resizer/1200/700/true/1632915351102_1632915404.jpg--limerick_ladies_football_club_championships_taking_shape_after_round_two_action.jpg?1632915404000\n",
            "[%] File Downloaded !\n",
            "\n",
            "[%] Downloading Image #27 from https://s9z9m9e2.stackpathcdn.com/wp-content/uploads/2020/03/beautiful-vintage-paperweight-cut-crystal-round-pink-diamond-shape-large-size-collectible-display-office-home-decor-5e77cc7d3-1536x1536.jpg\n",
            "[%] File Downloaded !\n",
            "\n",
            "[%] Downloading Image #28 from https://images-na.ssl-images-amazon.com/images/I/71T4x16FDQL._AC_UL1500_.jpg\n",
            "[%] File Downloaded !\n",
            "\n",
            "[%] Downloading Image #29 from https://i1.wp.com/images-na.ssl-images-amazon.com/images/I/41VkuDg%2BprL.jpg?fit=500%2C500&amp;ssl=1\n",
            "[!] Issue getting: https://i1.wp.com/images-na.ssl-images-amazon.com/images/I/41VkuDg%2BprL.jpg?fit=500%2C500&amp;ssl=1\n",
            "[!] Error:: HTTP Error 403: Forbidden\n",
            "[%] Downloading Image #29 from https://i.pinimg.com/originals/c6/a6/48/c6a648f8ce80af838157c9b1e9a128aa.jpg\n",
            "[%] File Downloaded !\n",
            "\n",
            "[%] Downloading Image #30 from https://www.onlinelingeri.dk/wp-content/uploads/2020/12/Marie-Jo-Salvador-Hjerteformet-Bh-True-Red-frasiden.jpg\n",
            "[!] Issue getting: https://www.onlinelingeri.dk/wp-content/uploads/2020/12/Marie-Jo-Salvador-Hjerteformet-Bh-True-Red-frasiden.jpg\n",
            "[!] Error:: HTTP Error 503: Service Temporarily Unavailable\n",
            "[%] Downloading Image #30 from https://images-na.ssl-images-amazon.com/images/I/61noVooPSRL._UL1500_.jpg\n",
            "[%] File Downloaded !\n",
            "\n",
            "[%] Downloading Image #31 from https://s9z9m9e2.stackpathcdn.com/wp-content/uploads/2020/03/beautiful-vintage-paperweight-cut-crystal-round-pink-diamond-shape-large-size-collectible-display-office-home-decor-5e77cc844-scaled-1000x1000.jpg\n",
            "[%] File Downloaded !\n",
            "\n",
            "[%] Downloading Image #32 from https://i.pinimg.com/originals/44/27/02/442702d97c45bad71124bcad927400fb.jpg\n",
            "[%] File Downloaded !\n",
            "\n",
            "[%] Downloading Image #33 from https://www.internimagazine.com/content/uploads/2021/10/AMDL-CIRCLE_ATools_Giacca_Ph-Delfino-Sisto-Legnani-orizz.jpg?imbypass=true\n",
            "[%] File Downloaded !\n",
            "\n",
            "[%] Downloading Image #34 from https://i.ebayimg.com/images/g/Y8kAAOSwpmhbs~2t/s-l640.jpg\n",
            "[%] File Downloaded !\n",
            "\n",
            "[%] Downloading Image #35 from https://i.pinimg.com/originals/84/7a/23/847a231f896e610e6966dc807fbb37b5.jpg\n",
            "[%] File Downloaded !\n",
            "\n",
            "[%] Downloading Image #36 from https://i5.walmartimages.com/asr/553452f2-b027-4e65-a9a9-34215c41f71c.07e2cf15d9c66c603a0b5c16326dc4bf.jpeg\n",
            "[%] File Downloaded !\n",
            "\n",
            "[%] Downloading Image #37 from https://images-na.ssl-images-amazon.com/images/I/71pUecRlzgL._UL1500_.jpg\n",
            "[%] File Downloaded !\n",
            "\n",
            "[%] Downloading Image #38 from https://truemeasureinc.com/wp-content/uploads/2018/11/port-single-4-img-3-1300x650.jpg\n",
            "[%] File Downloaded !\n",
            "\n",
            "\n",
            "\n",
            "[!!]Indexing page: 2\n",
            "\n",
            "[%] Indexed 36 Images on Page 2.\n",
            "\n",
            "===============================================\n",
            "\n",
            "[%] Downloading Image #39 from https://thumbs.dreamstime.com/z/print-185577701.jpg\n",
            "[%] File Downloaded !\n",
            "\n",
            "[%] Downloading Image #40 from https://cdn.shopify.com/s/files/1/0034/8314/0209/products/Bluetooth-Speaker-Tronsmart-Element-Splash-7W-Deep-Bass-Round-Shape-True-Wireless-Stereo-2_994x994.jpg?v=1633462996\n",
            "[%] File Downloaded !\n",
            "\n",
            "\n",
            "\n",
            "[%] Done. Downloaded 40 images.\n",
            "===============================================\n",
            "\n",
            "Please show your support here\n",
            "https://www.buymeacoffee.com/gurugaurav\n",
            "\n",
            "===============================================\n",
            "\n",
            "[%] Downloading Images to /content/images/square shape\n",
            "\n",
            "\n",
            "[!!]Indexing page: 1\n",
            "\n",
            "[%] Indexed 40 Images on Page 1.\n",
            "\n",
            "===============================================\n",
            "\n",
            "[%] Downloading Image #1 from https://i.pinimg.com/originals/41/35/6d/41356da71b064831b38e5d0fd1e72297.png\n",
            "[%] File Downloaded !\n",
            "\n",
            "[%] Downloading Image #2 from https://www.researchgate.net/profile/Aristidis_Likas/publication/241241273/figure/fig3/AS:298679874408450@1448222239454/Square-shaped-PSF-Images-left-to-right-of-the-true-PSF-that-was-used-to-generate-the.png\n",
            "[%] File Downloaded !\n",
            "\n",
            "[%] Downloading Image #3 from https://i.ytimg.com/vi/hhG-7D9c7go/hqdefault.jpg\n",
            "[%] File Downloaded !\n",
            "\n",
            "[%] Downloading Image #4 from https://i.ytimg.com/vi/Y4XJ8Zwf6LY/maxresdefault.jpg\n",
            "[%] File Downloaded !\n",
            "\n",
            "[%] Downloading Image #5 from https://i.ytimg.com/vi/qg-PW34yz1A/maxresdefault.jpg\n",
            "[%] File Downloaded !\n",
            "\n",
            "[%] Downloading Image #6 from https://i.pinimg.com/originals/c7/f5/53/c7f55319da2026de9610c9d356a8b032.jpg\n",
            "[%] File Downloaded !\n",
            "\n",
            "[%] Downloading Image #7 from https://cdn.numerade.com/previews/450e7491-03bc-4d1d-8be9-dd844533a488_large.jpg\n",
            "[%] File Downloaded !\n",
            "\n",
            "[%] Downloading Image #8 from https://i.ytimg.com/vi/QascBkkhYzM/maxresdefault.jpg\n",
            "[%] File Downloaded !\n",
            "\n",
            "[%] Downloading Image #9 from https://i.etsystatic.com/16655906/r/il/deb107/3197365318/il_1588xN.3197365318_50jo.jpg\n",
            "[%] File Downloaded !\n",
            "\n",
            "[%] Downloading Image #10 from https://m.media-amazon.com/images/I/61J7gt97i7L._AC_SL1001_.jpg\n",
            "[%] File Downloaded !\n",
            "\n",
            "[%] Downloading Image #11 from http://image.slidesharecdn.com/lesson7sections-i-161220062144/95/lesson-7-section-of-solids-part-i-5-638.jpg?cb=1482216778\n",
            "[%] File Downloaded !\n",
            "\n",
            "[%] Downloading Image #12 from https://i.pinimg.com/originals/45/2a/86/452a86096200652f95c882dcb67d20d0.jpg\n",
            "[%] File Downloaded !\n",
            "\n",
            "[%] Downloading Image #13 from https://i.ytimg.com/vi/-jbxDxIHwA4/maxresdefault.jpg\n",
            "[%] File Downloaded !\n",
            "\n",
            "[%] Downloading Image #14 from https://istudy-helper.com/tpl/images/2439/2446/19194.jpg\n",
            "[%] File Downloaded !\n",
            "\n",
            "[%] Downloading Image #15 from https://1.bp.blogspot.com/-wfqzswCF3fs/XnpcqjU1GOI/AAAAAAABJ0w/MNizBrwRSHAb_J_7iKhI6eUNpInZ1JjqQCLcBGAsYHQ/s400/images%2B%252893%2529.jpeg\n",
            "[%] File Downloaded !\n",
            "\n",
            "[%] Downloading Image #16 from https://i.pinimg.com/originals/49/10/13/4910130a5eae8f7c236e3ef29b015317.jpg\n",
            "[%] File Downloaded !\n",
            "\n",
            "[%] Downloading Image #17 from https://i.ebayimg.com/images/g/CMMAAOSw56Vg3xBD/s-l1600.png\n",
            "[%] File Downloaded !\n",
            "\n",
            "[%] Downloading Image #18 from https://i.ytimg.com/vi/SR02FgtYxrY/maxresdefault.jpg\n",
            "[%] File Downloaded !\n",
            "\n",
            "[%] Downloading Image #19 from https://i.pinimg.com/originals/10/5a/cf/105acf611496b7559dfdd4abd513c324.jpg\n",
            "[%] File Downloaded !\n",
            "\n",
            "[%] Downloading Image #20 from https://image.slidesharecdn.com/developmentofsurfacesofsolids-120723184304-phpapp01/95/development-of-surfaces-of-solids-9-728.jpg?cb=1343069236\n",
            "[%] File Downloaded !\n",
            "\n",
            "[%] Downloading Image #21 from https://us-static.z-dn.net/files/d50/1fa58384262520148cd72f796834fa50.jpg\n",
            "[%] File Downloaded !\n",
            "\n",
            "[%] Downloading Image #22 from https://i.pinimg.com/originals/a2/90/2c/a2902ce879f44df43fcf1e17f4d2a924.jpg\n",
            "[%] File Downloaded !\n",
            "\n",
            "[%] Downloading Image #23 from https://i.etsystatic.com/16655906/r/il/8805f5/3197365288/il_1588xN.3197365288_jk6j.jpg\n",
            "[%] File Downloaded !\n",
            "\n",
            "[%] Downloading Image #24 from https://i.ytimg.com/vi/uP9SROHdVwE/hqdefault.jpg\n",
            "[%] File Downloaded !\n",
            "\n",
            "[%] Downloading Image #25 from https://miro.medium.com/max/600/1*OwBWdfGLIyw26dTMw6NUeg.jpeg\n",
            "[Error]Invalid image, not saving https://miro.medium.com/max/600/1*OwBWdfGLIyw26dTMw6NUeg.jpeg\n",
            "\n",
            "[!] Issue getting: https://miro.medium.com/max/600/1*OwBWdfGLIyw26dTMw6NUeg.jpeg\n",
            "[!] Error:: Invalid image, not saving https://miro.medium.com/max/600/1*OwBWdfGLIyw26dTMw6NUeg.jpeg\n",
            "\n",
            "[%] Downloading Image #25 from https://istudy-helper.com/tpl/images/ask_question.png\n",
            "[%] File Downloaded !\n",
            "\n",
            "[%] Downloading Image #26 from https://i.pinimg.com/originals/05/3f/b6/053fb65dd6dd9c4e7b69a122c305ad7d.jpg\n",
            "[%] File Downloaded !\n",
            "\n",
            "[%] Downloading Image #27 from https://i.ebayimg.com/images/g/cCMAAOSwU6pf2Ktr/s-l300.jpg\n",
            "[%] File Downloaded !\n",
            "\n",
            "[%] Downloading Image #28 from https://i.etsystatic.com/16655906/r/il/e9bbb1/3245067413/il_1588xN.3245067413_k4ex.jpg\n",
            "[%] File Downloaded !\n",
            "\n",
            "[%] Downloading Image #29 from https://i.ebayimg.com/images/g/2hsAAOSwsFdf2Kti/s-l300.jpg\n",
            "[%] File Downloaded !\n",
            "\n",
            "[%] Downloading Image #30 from https://i.ebayimg.com/images/g/MEYAAOSw27df2Kte/s-l300.jpg\n",
            "[%] File Downloaded !\n",
            "\n",
            "[%] Downloading Image #31 from https://images-na.ssl-images-amazon.com/images/I/71T4x16FDQL._AC_UL1500_.jpg\n",
            "[%] File Downloaded !\n",
            "\n",
            "[%] Downloading Image #32 from https://i.ebayimg.com/images/g/gngAAOSwff1f2Ktw/s-l300.jpg\n",
            "[%] File Downloaded !\n",
            "\n",
            "[%] Downloading Image #33 from https://i.pinimg.com/originals/4d/7d/40/4d7d401209aa8dff0d7b77d7fd37a728.jpg\n",
            "[%] File Downloaded !\n",
            "\n",
            "[%] Downloading Image #34 from https://ae01.alicdn.com/kf/HTB1dZofdTlYBeNjSszcq6zwhFXaC/Dorado-True-925-Sterling-Silver-Fine-Jewelry-Bijoux-Femme-Smooth-Square-Shape-Stud-Earrings-for-Women.jpg\n",
            "[%] File Downloaded !\n",
            "\n",
            "[%] Downloading Image #35 from https://i.pinimg.com/originals/6a/97/23/6a972330fd1e45703cf44df4ebf6706c.jpg\n",
            "[%] File Downloaded !\n",
            "\n",
            "[%] Downloading Image #36 from https://i.pinimg.com/474x/59/91/72/599172417bb19068db067a4a31d3bd65.jpg\n",
            "[%] File Downloaded !\n",
            "\n",
            "[%] Downloading Image #37 from https://images-na.ssl-images-amazon.com/images/I/61hn7i2OK9L._AC_UL1500_.jpg\n",
            "[%] File Downloaded !\n",
            "\n",
            "[%] Downloading Image #38 from https://www.birchcreative.com.au/assets/bulkUpload/_resampled/PadWyIxOTIwIiwiMTA4MCIsIkZGRkZGRiIsMF0/020577.jpg\n",
            "[%] File Downloaded !\n",
            "\n",
            "[%] Downloading Image #39 from https://i.pinimg.com/474x/68/16/11/68161156319642729bfaf4b40b52b72a.jpg\n",
            "[%] File Downloaded !\n",
            "\n",
            "\n",
            "\n",
            "[!!]Indexing page: 2\n",
            "\n",
            "[%] Indexed 35 Images on Page 2.\n",
            "\n",
            "===============================================\n",
            "\n",
            "[%] Downloading Image #40 from https://i.pinimg.com/originals/41/35/6d/41356da71b064831b38e5d0fd1e72297.png\n",
            "[%] File Downloaded !\n",
            "\n",
            "\n",
            "\n",
            "[%] Done. Downloaded 40 images.\n",
            "===============================================\n",
            "\n",
            "Please show your support here\n",
            "https://www.buymeacoffee.com/gurugaurav\n",
            "\n",
            "===============================================\n",
            "\n",
            "[%] Downloading Images to /content/images/triangle shape\n",
            "\n",
            "\n",
            "[!!]Indexing page: 1\n",
            "\n",
            "[%] Indexed 40 Images on Page 1.\n",
            "\n",
            "===============================================\n",
            "\n",
            "[%] Downloading Image #1 from http://joshuaensley.org/wp-content/uploads/2018/06/yellow-triangle.png\n",
            "[%] File Downloaded !\n",
            "\n",
            "[%] Downloading Image #2 from https://pngimg.com/uploads/triangle/triangle_PNG55.png\n",
            "[%] File Downloaded !\n",
            "\n",
            "[%] Downloading Image #3 from https://pngimg.com/uploads/triangle/triangle_PNG98.png\n",
            "[%] File Downloaded !\n",
            "\n",
            "[%] Downloading Image #4 from https://pngimg.com/uploads/triangle/triangle_PNG44.png\n",
            "[%] File Downloaded !\n",
            "\n",
            "[%] Downloading Image #5 from https://pngimg.com/uploads/triangle/triangle_PNG76.png\n",
            "[%] File Downloaded !\n",
            "\n",
            "[%] Downloading Image #6 from https://res.cloudinary.com/teepublic/image/private/s--fAYXgHKx--/t_Preview/b_rgb:ffffff,c_lpad,f_jpg,h_630,q_90,w_1200/v1547540900/production/designs/3985995_0.jpg\n",
            "[%] File Downloaded !\n",
            "\n",
            "[%] Downloading Image #7 from https://pngimg.com/uploads/triangle/triangle_PNG53.png\n",
            "[%] File Downloaded !\n",
            "\n",
            "[%] Downloading Image #8 from https://pngimg.com/uploads/triangle/triangle_PNG57.png\n",
            "[%] File Downloaded !\n",
            "\n",
            "[%] Downloading Image #9 from https://pngimg.com/uploads/triangle/triangle_PNG12.png\n",
            "[%] File Downloaded !\n",
            "\n",
            "[%] Downloading Image #10 from https://pngimg.com/uploads/triangle/triangle_PNG86.png\n",
            "[%] File Downloaded !\n",
            "\n",
            "[%] Downloading Image #11 from https://pngimg.com/uploads/triangle/triangle_PNG94.png\n",
            "[%] File Downloaded !\n",
            "\n",
            "[%] Downloading Image #12 from https://pngimg.com/uploads/triangle/triangle_PNG105.png\n",
            "[%] File Downloaded !\n",
            "\n",
            "[%] Downloading Image #13 from https://pngimg.com/uploads/triangle/triangle_PNG19.png\n",
            "[%] File Downloaded !\n",
            "\n",
            "[%] Downloading Image #14 from http://pngimg.com/uploads/triangle/triangle_PNG109.png\n",
            "[%] File Downloaded !\n",
            "\n",
            "[%] Downloading Image #15 from http://pngimg.com/uploads/triangle/triangle_PNG15.png\n",
            "[%] File Downloaded !\n",
            "\n",
            "[%] Downloading Image #16 from https://pngimg.com/uploads/triangle/triangle_PNG30.png\n",
            "[%] File Downloaded !\n",
            "\n",
            "[%] Downloading Image #17 from http://pngimg.com/uploads/triangle/triangle_PNG92.png\n",
            "[%] File Downloaded !\n",
            "\n",
            "[%] Downloading Image #18 from https://pngimg.com/uploads/triangle/triangle_PNG83.png\n",
            "[%] File Downloaded !\n",
            "\n",
            "[%] Downloading Image #19 from https://res.cloudinary.com/teepublic/image/private/s--NUjsH9ZL--/c_crop,x_10,y_10/c_fit,h_728/c_crop,g_north_west,h_827,w_1127,x_-287,y_-50/l_misc:transparent_1260/fl_layer_apply,g_north_west,x_-353,y_-262/c_mfit,g_north_east,u_misc:tapestry-l-s-gradient/e_displace,fl_layer_apply,x_0,y_34/l_upload:v1507037315:production:blanks:uue6kkaylik55suzvwsb/fl_layer_apply,g_north_west,x_0,y_0/b_rgb:ffffff/c_limit,f_auto,h_630,q_90,w_630/v1547540900/production/designs/3985995_0.jpg\n",
            "[%] File Downloaded !\n",
            "\n",
            "[%] Downloading Image #20 from https://pngimg.com/uploads/triangle/triangle_PNG45.png\n",
            "[%] File Downloaded !\n",
            "\n",
            "[%] Downloading Image #21 from http://pngimg.com/uploads/triangle/triangle_PNG83.png\n",
            "[%] File Downloaded !\n",
            "\n",
            "[%] Downloading Image #22 from https://pngimg.com/uploads/triangle/triangle_PNG103.png\n",
            "[%] File Downloaded !\n",
            "\n",
            "[%] Downloading Image #23 from https://pngimg.com/uploads/triangle/triangle_PNG17.png\n",
            "[%] File Downloaded !\n",
            "\n",
            "[%] Downloading Image #24 from https://pngimg.com/uploads/triangle/triangle_PNG97.png\n",
            "[%] File Downloaded !\n",
            "\n",
            "[%] Downloading Image #25 from https://pngimg.com/uploads/triangle/triangle_PNG2.png\n",
            "[%] File Downloaded !\n",
            "\n",
            "[%] Downloading Image #26 from https://i.pinimg.com/736x/61/57/33/6157332391a8b08b237c1843bfcb0a30--shape-art-triangles.jpg\n",
            "[%] File Downloaded !\n",
            "\n",
            "[%] Downloading Image #27 from https://media.guitarcenter.com/is/image/MMGS7/SLI-TRUSS34-1-Triangle-Shaped-4-in-1-LED-Wash-Light-for-Tri-Trusses/L88792000000000-00-2000x2000.jpg\n",
            "[%] File Downloaded !\n",
            "\n",
            "[%] Downloading Image #28 from http://1.bp.blogspot.com/-lmUltneWZ3U/T0aKNur2M2I/AAAAAAAABSY/fHlTW7OIePg/s1600/DSC07465.JPG\n",
            "[%] File Downloaded !\n",
            "\n",
            "[%] Downloading Image #29 from https://pngimg.com/uploads/triangle/triangle_PNG59.png\n",
            "[%] File Downloaded !\n",
            "\n",
            "[%] Downloading Image #30 from https://i.pinimg.com/originals/fc/7b/5b/fc7b5b07970df11c1e06339acde0d190.jpg\n",
            "[%] File Downloaded !\n",
            "\n",
            "[%] Downloading Image #31 from https://i.ebayimg.com/images/i/142846196843-0-1/s-l1000.jpg\n",
            "[%] File Downloaded !\n",
            "\n",
            "[%] Downloading Image #32 from https://nrich.maths.org/content/id/14041/Triangles table.png\n",
            "[!] Issue getting: https://nrich.maths.org/content/id/14041/Triangles table.png\n",
            "[!] Error:: URL can't contain control characters. '/content/id/14041/Triangles table.png' (found at least ' ')\n",
            "[%] Downloading Image #32 from https://pngimg.com/uploads/triangle/triangle_PNG3.png\n",
            "[%] File Downloaded !\n",
            "\n",
            "[%] Downloading Image #33 from https://i.ebayimg.com/images/g/9MsAAOSwpDdVDBv7/s-l400.jpg\n",
            "[%] File Downloaded !\n",
            "\n",
            "[%] Downloading Image #34 from https://pngimg.com/uploads/triangle/triangle_PNG51.png\n",
            "[%] File Downloaded !\n",
            "\n",
            "[%] Downloading Image #35 from https://i.ebayimg.com/images/g/~zEAAOSwM1Jav89M/s-l640.jpg\n",
            "[%] File Downloaded !\n",
            "\n",
            "[%] Downloading Image #36 from https://affinity.help/designer/shared/shapes_triangle1.png\n",
            "[%] File Downloaded !\n",
            "\n",
            "[%] Downloading Image #37 from https://i.ytimg.com/vi/opeUy7g3dbQ/maxresdefault.jpg\n",
            "[%] File Downloaded !\n",
            "\n",
            "[%] Downloading Image #38 from https://res.cloudinary.com/teepublic/image/private/s--pVjQ4wX8--/t_Resized Artwork/c_fit,g_north_west,h_1054,w_1054/co_ffffff,e_outline:53/co_ffffff,e_outline:inner_fill:53/co_bbbbbb,e_outline:3:1000/c_mpad,g_center,h_1260,w_1260/b_rgb:eeeeee/c_limit,f_auto,h_630,q_90,w_630/v1526806408/production/designs/2705658_0.jpg\n",
            "[!] Issue getting: https://res.cloudinary.com/teepublic/image/private/s--pVjQ4wX8--/t_Resized Artwork/c_fit,g_north_west,h_1054,w_1054/co_ffffff,e_outline:53/co_ffffff,e_outline:inner_fill:53/co_bbbbbb,e_outline:3:1000/c_mpad,g_center,h_1260,w_1260/b_rgb:eeeeee/c_limit,f_auto,h_630,q_90,w_630/v1526806408/production/designs/2705658_0.jpg\n",
            "[!] Error:: URL can't contain control characters. '/teepublic/image/private/s--pVjQ4wX8--/t_Resized Artwork/c_fit,g_north_west,h_1054,w_1054/co_ffffff,e_outline:53/co_ffffff,e_outline:inner_fill:53/co_bbbbbb,e_outline:3:1000/c_mpad,g_center,h_1260,w_1260/b_rgb:eeeeee/c_limit,f_auto,h_630,q_90,w_630/v1526806408/production/designs/2705658_0.jpg' (found at least ' ')\n",
            "[%] Downloading Image #38 from https://i.pinimg.com/originals/b0/91/e9/b091e9927fdea1084e0587fb60288fbd.jpg\n",
            "[%] File Downloaded !\n",
            "\n",
            "\n",
            "\n",
            "[!!]Indexing page: 2\n",
            "\n",
            "[%] Indexed 35 Images on Page 2.\n",
            "\n",
            "===============================================\n",
            "\n",
            "[%] Downloading Image #39 from http://joshuaensley.org/wp-content/uploads/2018/06/yellow-triangle.png\n",
            "[%] File Downloaded !\n",
            "\n",
            "[%] Downloading Image #40 from https://pngimg.com/uploads/triangle/triangle_PNG55.png\n",
            "[%] File Downloaded !\n",
            "\n",
            "\n",
            "\n",
            "[%] Done. Downloaded 40 images.\n",
            "===============================================\n",
            "\n",
            "Please show your support here\n",
            "https://www.buymeacoffee.com/gurugaurav\n",
            "\n",
            "===============================================\n",
            "\n",
            "[%] Downloading Images to /content/images/star shape\n",
            "\n",
            "\n",
            "[!!]Indexing page: 1\n",
            "\n",
            "[%] Indexed 40 Images on Page 1.\n",
            "\n",
            "===============================================\n",
            "\n",
            "[%] Downloading Image #1 from https://i.pinimg.com/originals/ca/8a/77/ca8a77618fe5e6d8ac8bef3c3ff77c00.jpg\n",
            "[%] File Downloaded !\n",
            "\n",
            "[%] Downloading Image #2 from https://stampwithangela.co.nz/wp-content/uploads/2018/04/Star-Effects-Card-with-True-Gentleman-DSP.jpg\n",
            "[%] File Downloaded !\n",
            "\n",
            "[%] Downloading Image #3 from https://s9z9m9e2.stackpathcdn.com/wp-content/uploads/2019/12/sterling-silver-star-shape-pendant-drop-austrian-crystal-center-with-marcasite-925-weighs-7-grams-5e059b2710-768x768.jpg\n",
            "[%] File Downloaded !\n",
            "\n",
            "[%] Downloading Image #4 from https://s9z9m9e2.stackpathcdn.com/wp-content/uploads/2019/12/sterling-silver-star-shape-pendant-drop-austrian-crystal-center-with-marcasite-925-weighs-7-grams-5e059b1f9-2048x2048.jpg\n",
            "[%] File Downloaded !\n",
            "\n",
            "[%] Downloading Image #5 from https://s9z9m9e2.stackpathcdn.com/wp-content/uploads/2019/12/sterling-silver-star-shape-pendant-drop-austrian-crystal-center-with-marcasite-925-weighs-7-grams-5e059ae71-768x768.jpg\n",
            "[%] File Downloaded !\n",
            "\n",
            "[%] Downloading Image #6 from https://s9z9m9e2.stackpathcdn.com/wp-content/uploads/2019/12/sterling-silver-star-shape-pendant-drop-austrian-crystal-center-with-marcasite-925-weighs-7-grams-5e059afc4-scaled.jpg\n",
            "[%] File Downloaded !\n",
            "\n",
            "[%] Downloading Image #7 from https://s9z9m9e2.stackpathcdn.com/wp-content/uploads/2019/12/sterling-silver-star-shape-pendant-drop-austrian-crystal-center-with-marcasite-925-weighs-7-grams-5e059aee2-768x768.jpg\n",
            "[%] File Downloaded !\n",
            "\n",
            "[%] Downloading Image #8 from https://i.pinimg.com/originals/6d/dc/c7/6ddcc752fcabf2add2687456d8af068a.jpg\n",
            "[%] File Downloaded !\n",
            "\n",
            "[%] Downloading Image #9 from https://s9z9m9e2.stackpathcdn.com/wp-content/uploads/2019/12/sterling-silver-star-shape-pendant-drop-austrian-crystal-center-with-marcasite-925-weighs-7-grams-5e059b0a6-768x768.jpg\n",
            "[%] File Downloaded !\n",
            "\n",
            "[%] Downloading Image #10 from https://s9z9m9e2.stackpathcdn.com/wp-content/uploads/2019/12/sterling-silver-star-shape-pendant-drop-yellow-stone-with-sterling-back-surround-925-weighs-11-25-grams-j-link-sterling-5e0599051-1536x1536.jpg\n",
            "[%] File Downloaded !\n",
            "\n",
            "[%] Downloading Image #11 from https://s9z9m9e2.stackpathcdn.com/wp-content/uploads/2019/12/sterling-silver-star-shape-pendant-drop-austrian-crystal-center-with-marcasite-925-weighs-7-grams-5e059b188-2048x2048.jpg\n",
            "[%] File Downloaded !\n",
            "\n",
            "[%] Downloading Image #12 from https://stampwithangela.co.nz/wp-content/uploads/2018/04/Star-Effects-Card-with-Eclectic-DSP.jpg\n",
            "[%] File Downloaded !\n",
            "\n",
            "[%] Downloading Image #13 from https://i.pinimg.com/474x/b6/cc/5a/b6cc5ad852532760b75b429338e51c95.jpg\n",
            "[%] File Downloaded !\n",
            "\n",
            "[%] Downloading Image #14 from https://i.pinimg.com/originals/65/08/b3/6508b368428d83766543a45810ad1a1f.jpg\n",
            "[%] File Downloaded !\n",
            "\n",
            "[%] Downloading Image #15 from https://i5.walmartimages.com/asr/af946b53-881c-4748-8438-8e9b3f2e1603_1.6b532d86ed0b97f98f184b404e069906.jpeg\n",
            "[%] File Downloaded !\n",
            "\n",
            "[%] Downloading Image #16 from https://i.pinimg.com/originals/d6/b0/07/d6b007da6904e3c5e00f81d12eb923f3.jpg\n",
            "[%] File Downloaded !\n",
            "\n",
            "[%] Downloading Image #17 from https://i.pinimg.com/474x/e1/a1/cc/e1a1cc8ad12041454d3e6613de607457--salon-marketing-business-marketing.jpg\n",
            "[%] File Downloaded !\n",
            "\n",
            "[%] Downloading Image #18 from https://stampwithangela.co.nz/wp-content/uploads/2018/04/Star-Effects-Card-with-True-Gentleman-DSP-back.jpg\n",
            "[%] File Downloaded !\n",
            "\n",
            "[%] Downloading Image #19 from https://i5.walmartimages.com/asr/01df6a4d-cdd6-40a5-beed-2fb5378298ba_1.c5d77aa546ede8e9437f79ac2a11fc7c.jpeg?odnWidth=1000&amp;odnHeight=1000&amp;odnBg=ffffff\n",
            "[Error]Invalid image, not saving https://i5.walmartimages.com/asr/01df6a4d-cdd6-40a5-beed-2fb5378298ba_1.c5d77aa546ede8e9437f79ac2a11fc7c.jpeg?odnWidth=1000&amp;odnHeight=1000&amp;odnBg=ffffff\n",
            "\n",
            "[!] Issue getting: https://i5.walmartimages.com/asr/01df6a4d-cdd6-40a5-beed-2fb5378298ba_1.c5d77aa546ede8e9437f79ac2a11fc7c.jpeg?odnWidth=1000&amp;odnHeight=1000&amp;odnBg=ffffff\n",
            "[!] Error:: Invalid image, not saving https://i5.walmartimages.com/asr/01df6a4d-cdd6-40a5-beed-2fb5378298ba_1.c5d77aa546ede8e9437f79ac2a11fc7c.jpeg?odnWidth=1000&amp;odnHeight=1000&amp;odnBg=ffffff\n",
            "\n",
            "[%] Downloading Image #19 from http://ecx.images-amazon.com/images/I/41qNznZ0zbL._SY355_.jpg\n",
            "[%] File Downloaded !\n",
            "\n",
            "[%] Downloading Image #20 from https://static.independent.co.uk/s3fs-public/thumbnails/image/2019/04/14/15/galaxys-edge.jpg\n",
            "[%] File Downloaded !\n",
            "\n",
            "[%] Downloading Image #21 from https://i.pinimg.com/originals/a9/5f/1e/a95f1e10073abeaf102455723ea09d84.jpg\n",
            "[%] File Downloaded !\n",
            "\n",
            "[%] Downloading Image #22 from https://images-na.ssl-images-amazon.com/images/I/61zYRwxu11L._AC_UX500_.jpg\n",
            "[%] File Downloaded !\n",
            "\n",
            "[%] Downloading Image #23 from https://cdn.i-scmp.com/sites/default/files/styles/og_image_scmp_generic/public/d8/images/methode/2019/08/02/f3213cd6-b4a6-11e9-8f9c-a6398a9f90a9_image_hires_062046.jpg?itok=edoOrj-Q&amp;v=1564698052\n",
            "[%] File Downloaded !\n",
            "\n",
            "[%] Downloading Image #24 from https://s-media-cache-ak0.pinimg.com/736x/25/74/dc/2574dcfedbb6c4c0597407425bc70a3d.jpg\n",
            "[%] File Downloaded !\n",
            "\n",
            "[%] Downloading Image #25 from http://cdn.shopify.com/s/files/1/2662/5254/products/0035_800x.jpg?v=1524823231\n",
            "[%] File Downloaded !\n",
            "\n",
            "[%] Downloading Image #26 from https://s9z9m9e2.stackpathcdn.com/wp-content/uploads/2019/12/sterling-silver-star-shape-pendant-drop-yellow-stone-with-sterling-back-surround-925-weighs-11-25-grams-j-link-sterling-5e05991a4-scaled-1000x1000.jpg\n",
            "[%] File Downloaded !\n",
            "\n",
            "[%] Downloading Image #27 from https://cdn.shopify.com/s/files/1/0593/6758/8023/products/moravian-star-moroccan-ceiling-lamp-brass-lamps-glass-home-decor-interior-design-novarian-creations-nova-567_1200x1200.jpg?v=1630503244\n",
            "[%] File Downloaded !\n",
            "\n",
            "[%] Downloading Image #28 from https://www.alamy.com/aggregator-api/download?url=https://c8.alamy.com/comp/PFY5B5/curries-farm-and-garden-annual-spring-1920-45th-year-flowers-seeds-catalogs-bulbs-plants-seeds-catalogs-vegetables-seeds-catalogs-nurseries-horticulture-catalogs-plants-ornamental-catalogs-gardening-equipment-and-supplies-catalogs-iirdia-ibition-strain-gnaphvliumedelweiss-the-true-edelweiss-of-the-alps-the-flowers-are-of-a-downy-appearance-pure-white-and-star-shaped-h-p-godetia-hardy-annuals-of-the-easiest-cultivation-sow-in-the-open-ground-during-may-flowers-of-brilliant-and-delicate-colors-h-a-1-foot-finest-gtlixed-grevillea-robl-sta-ornamental-plants-with-PFY5B5.jpg\n",
            "[!] Issue getting: https://www.alamy.com/aggregator-api/download?url=https://c8.alamy.com/comp/PFY5B5/curries-farm-and-garden-annual-spring-1920-45th-year-flowers-seeds-catalogs-bulbs-plants-seeds-catalogs-vegetables-seeds-catalogs-nurseries-horticulture-catalogs-plants-ornamental-catalogs-gardening-equipment-and-supplies-catalogs-iirdia-ibition-strain-gnaphvliumedelweiss-the-true-edelweiss-of-the-alps-the-flowers-are-of-a-downy-appearance-pure-white-and-star-shaped-h-p-godetia-hardy-annuals-of-the-easiest-cultivation-sow-in-the-open-ground-during-may-flowers-of-brilliant-and-delicate-colors-h-a-1-foot-finest-gtlixed-grevillea-robl-sta-ornamental-plants-with-PFY5B5.jpg\n",
            "[!] Error:: HTTP Error 308: Permanent Redirect\n",
            "[%] Downloading Image #28 from https://images-na.ssl-images-amazon.com/images/I/51eStLilxIL._UL1000_.jpg\n",
            "[%] File Downloaded !\n",
            "\n",
            "[%] Downloading Image #29 from https://m.media-amazon.com/images/S/aplus-media/sc/eddb3445-5d70-4350-b600-758d743a37a7.__CR0,0,300,300_PT0_SX300_V1___.jpg\n",
            "[%] File Downloaded !\n",
            "\n",
            "[%] Downloading Image #30 from https://images-na.ssl-images-amazon.com/images/I/61V0nI6zDLL._AC_SL1000_.jpg\n",
            "[%] File Downloaded !\n",
            "\n",
            "[%] Downloading Image #31 from https://i.pinimg.com/originals/f4/19/9a/f4199af0f7fd698b2b1334078986b24d.jpg\n",
            "[%] File Downloaded !\n",
            "\n",
            "[%] Downloading Image #32 from https://m.media-amazon.com/images/S/aplus-media-library-service-media/e16f3d4e-c817-45ac-afd3-f1eb9e6fd3f1.__CR0,0,1000,1000_PT0_SX300_V1___.jpg\n",
            "[%] File Downloaded !\n",
            "\n",
            "[%] Downloading Image #33 from https://trueblog.net/wp-content/uploads/2021/05/2-star-holes-in-volda-480x292.png\n",
            "[%] File Downloaded !\n",
            "\n",
            "[%] Downloading Image #34 from https://storage.googleapis.com/stateless-teeoctober-com/2020/02/f6ca9aee-dfjj-nhl-all-star-game-2002-png-transparent-glitter-heart-shapelovely-and-true-gift-for-fans-classic-t-shirt-2-front-sport-grey-510x549.png\n",
            "[%] File Downloaded !\n",
            "\n",
            "[%] Downloading Image #35 from https://i.pinimg.com/originals/61/20/e3/6120e3fe97dea58753ed15d8177a1aa5.jpg\n",
            "[%] File Downloaded !\n",
            "\n",
            "[%] Downloading Image #36 from https://i.pinimg.com/originals/95/fa/34/95fa345cef58535ce28264f17b2a3086.jpg\n",
            "[%] File Downloaded !\n",
            "\n",
            "[%] Downloading Image #37 from https://storage.googleapis.com/stateless-teeoctober-com/2020/02/25578bfe-dfjj-nhl-all-star-game-2002-png-transparent-glitter-heart-shapelovely-and-true-gift-for-fans-classic-t-shirt-2-front-black.png\n",
            "[%] File Downloaded !\n",
            "\n",
            "[%] Downloading Image #38 from https://storage.googleapis.com/stateless-teeoctober-com/2020/02/71629882-dfjj-nhl-all-star-game-2002-png-transparent-glitter-heart-shapelovely-and-true-gift-for-fans-classic-t-shirt-2-front-white-510x549.png\n",
            "[%] File Downloaded !\n",
            "\n",
            "\n",
            "\n",
            "[!!]Indexing page: 2\n",
            "\n",
            "[%] Indexed 35 Images on Page 2.\n",
            "\n",
            "===============================================\n",
            "\n",
            "[%] Downloading Image #39 from https://i.pinimg.com/originals/ca/8a/77/ca8a77618fe5e6d8ac8bef3c3ff77c00.jpg\n",
            "[%] File Downloaded !\n",
            "\n",
            "[%] Downloading Image #40 from https://stampwithangela.co.nz/wp-content/uploads/2018/04/Star-Effects-Card-with-True-Gentleman-DSP.jpg\n",
            "[%] File Downloaded !\n",
            "\n",
            "\n",
            "\n",
            "[%] Done. Downloaded 40 images.\n",
            "===============================================\n",
            "\n",
            "Please show your support here\n",
            "https://www.buymeacoffee.com/gurugaurav\n",
            "\n",
            "===============================================\n",
            "\n"
          ]
        }
      ]
    },
    {
      "cell_type": "markdown",
      "metadata": {
        "id": "GxyeUvGYehOG"
      },
      "source": [
        "# Pre-processing\n",
        "## 1. Resize\n",
        "## 2. Flattening"
      ]
    },
    {
      "cell_type": "code",
      "metadata": {
        "colab": {
          "base_uri": "https://localhost:8080/"
        },
        "id": "6ZailS-BedwH",
        "outputId": "813cd97b-5ee6-4f37-a853-3fbf52be0bdb"
      },
      "source": [
        "\n",
        "\n",
        "target = []\n",
        "images = []\n",
        "flat_data = [] #to process into machine learning algo\n",
        "\n",
        "DATADIR = '/content/images'\n",
        "CATEGORIES = ['circle shape','square shape','triangle shape','star shape']\n",
        "\n",
        "for category in CATEGORIES:\n",
        "  class_num = CATEGORIES.index(category) #label Encoding the values\n",
        "  path = os.path.join(DATADIR,category) #create path to use all the a images\n",
        "  print(path)\n",
        "\n",
        "  for img in os.listdir(path):\n",
        "    img_array = imread(os.path.join(path,img))\n",
        "    img_resized = resize(img_array,(150,150,3)) #resize\n",
        "    flat_data.append(img_resized.flatten()) #flatten\n",
        "    images.append(img_resized)\n",
        "    target.append(class_num)\n",
        "\n",
        "\n",
        "flat_data = np.array(flat_data)\n",
        "images = np.array(images)\n",
        "target = np.array(target)\n"
      ],
      "execution_count": null,
      "outputs": [
        {
          "output_type": "stream",
          "name": "stdout",
          "text": [
            "/content/images/circle shape\n",
            "/content/images/square shape\n",
            "/content/images/triangle shape\n"
          ]
        },
        {
          "output_type": "stream",
          "name": "stderr",
          "text": [
            "/usr/local/lib/python3.7/dist-packages/PIL/Image.py:960: UserWarning: Palette images with Transparency expressed in bytes should be converted to RGBA images\n",
            "  \"Palette images with Transparency expressed in bytes should be \"\n"
          ]
        },
        {
          "output_type": "stream",
          "name": "stdout",
          "text": [
            "/content/images/star shape\n"
          ]
        }
      ]
    },
    {
      "cell_type": "code",
      "metadata": {
        "id": "KcbUqbjdfVQB"
      },
      "source": [
        "# Split data into train and Test\n",
        "x_train, X_test, y_train, y_test = train_test_split(flat_data,target, test_size = 0.3, random_state=0)"
      ],
      "execution_count": null,
      "outputs": []
    },
    {
      "cell_type": "markdown",
      "metadata": {
        "id": "O-rjH1MWgU16"
      },
      "source": [
        "# Finding best algo & Train model"
      ]
    },
    {
      "cell_type": "code",
      "metadata": {
        "colab": {
          "base_uri": "https://localhost:8080/"
        },
        "id": "0vnWMVymfj5o",
        "outputId": "d5fde8d9-1273-4f47-f90f-fcc60d0a569d"
      },
      "source": [
        "\n",
        "param_grid = [\n",
        "              {'C':[1,10,100,1000],'kernel':['linear']},\n",
        "              {'C':[1,10,100,1000],'gamma':[0.001,0.0001],'kernel':['rbf']},\n",
        "]\n",
        "\n",
        "\n",
        "svc = svm.SVC(probability=True)\n",
        "clf = GridSearchCV(svc,param_grid)\n",
        "clf.fit(x_train,y_train)"
      ],
      "execution_count": null,
      "outputs": [
        {
          "output_type": "execute_result",
          "data": {
            "text/plain": [
              "GridSearchCV(cv=None, error_score=nan,\n",
              "             estimator=SVC(C=1.0, break_ties=False, cache_size=200,\n",
              "                           class_weight=None, coef0=0.0,\n",
              "                           decision_function_shape='ovr', degree=3,\n",
              "                           gamma='scale', kernel='rbf', max_iter=-1,\n",
              "                           probability=True, random_state=None, shrinking=True,\n",
              "                           tol=0.001, verbose=False),\n",
              "             iid='deprecated', n_jobs=None,\n",
              "             param_grid=[{'C': [1, 10, 100, 1000], 'kernel': ['linear']},\n",
              "                         {'C': [1, 10, 100, 1000], 'gamma': [0.001, 0.0001],\n",
              "                          'kernel': ['rbf']}],\n",
              "             pre_dispatch='2*n_jobs', refit=True, return_train_score=False,\n",
              "             scoring=None, verbose=0)"
            ]
          },
          "metadata": {},
          "execution_count": 6
        }
      ]
    },
    {
      "cell_type": "markdown",
      "metadata": {
        "id": "rYJ3E4t7gZRQ"
      },
      "source": [
        "# Predict"
      ]
    },
    {
      "cell_type": "code",
      "metadata": {
        "id": "c_ONxR9Rfqes"
      },
      "source": [
        "#predict\n",
        "y_pred = clf.predict(X_test)"
      ],
      "execution_count": null,
      "outputs": []
    },
    {
      "cell_type": "code",
      "metadata": {
        "colab": {
          "base_uri": "https://localhost:8080/"
        },
        "id": "wW5vC9yhfwf8",
        "outputId": "b267e9f3-36af-4260-e25b-127a5700f07b"
      },
      "source": [
        "# finding accuarcy\n",
        "accuracy_score(y_pred,y_test)"
      ],
      "execution_count": null,
      "outputs": [
        {
          "output_type": "execute_result",
          "data": {
            "text/plain": [
              "0.5416666666666666"
            ]
          },
          "metadata": {},
          "execution_count": 8
        }
      ]
    },
    {
      "cell_type": "code",
      "metadata": {
        "colab": {
          "base_uri": "https://localhost:8080/"
        },
        "id": "awtp6ognf3_v",
        "outputId": "51dcba88-f7f7-4d2c-b293-9c0681d03de8"
      },
      "source": [
        "# finding confusion_matrix\n",
        "confusion_matrix(y_pred,y_test)"
      ],
      "execution_count": null,
      "outputs": [
        {
          "output_type": "execute_result",
          "data": {
            "text/plain": [
              "array([[6, 2, 1, 4],\n",
              "       [4, 8, 2, 4],\n",
              "       [0, 0, 8, 1],\n",
              "       [0, 3, 1, 4]])"
            ]
          },
          "metadata": {},
          "execution_count": 9
        }
      ]
    },
    {
      "cell_type": "code",
      "metadata": {
        "id": "de0kC2tmf-l-"
      },
      "source": [
        "#Save the model using Pickle Library\n",
        "pickle.dump(clf,open('img_model.p','wb'))"
      ],
      "execution_count": null,
      "outputs": []
    },
    {
      "cell_type": "markdown",
      "metadata": {
        "id": "FQxsPg5YgJzp"
      },
      "source": [
        "# Load a model"
      ]
    },
    {
      "cell_type": "code",
      "metadata": {
        "id": "7tFyw6WmgGSe"
      },
      "source": [
        "model = pickle.load(open('img_model.p','rb'))"
      ],
      "execution_count": null,
      "outputs": []
    },
    {
      "cell_type": "markdown",
      "metadata": {
        "id": "T3Jud6DmgPy1"
      },
      "source": [
        "#Testing the brand new image"
      ]
    },
    {
      "cell_type": "code",
      "metadata": {
        "colab": {
          "base_uri": "https://localhost:8080/",
          "height": 320
        },
        "id": "udQb5rs1gQWd",
        "outputId": "879796d6-365f-40f8-c774-2f8c6a54a4f3"
      },
      "source": [
        "flat_data = []\n",
        "\n",
        "url = input('Enter the URL')\n",
        "img = imread(url)\n",
        "\n",
        "img_resized = resize(img,(150,150,3))\n",
        "flat_data.append(img_resized.flatten())\n",
        "\n",
        "flat_data = np.array(flat_data)\n",
        "\n",
        "print(img.shape)\n",
        "plt.imshow(img_resized)\n",
        "y_out = model.predict(flat_data)\n",
        "y_out = CATEGORIES[y_out[0]]\n",
        "\n",
        "print(f'PREDICTED OUTPUT: {y_out}')\\"
      ],
      "execution_count": null,
      "outputs": [
        {
          "output_type": "stream",
          "name": "stdout",
          "text": [
            "Enter the URLhttps://www.seekpng.com/png/detail/139-1399549_small-yellow-star-shape-png.png\n",
            "(544, 820, 3)\n",
            "PREDICTED OUTPUT: circle shape\n"
          ]
        },
        {
          "output_type": "display_data",
          "data": {
            "image/png": "[encoded data removed]",
            "text/plain": [
              "<Figure size 432x288 with 1 Axes>"
            ]
          },
          "metadata": {
            "needs_background": "light"
          }
        }
      ]
    },
    {
      "cell_type": "code",
      "metadata": {
        "id": "iClJDePUoC46"
      },
      "source": [
        "# https://www.seekpng.com/png/detail/139-1399549_small-yellow-star-shape-png.png\n",
        "# https://www.clipartkey.com/mpngs/m/291-2919053_square-shaped-objects-clipart.png\n",
        "# https://i.ytimg.com/vi/2wFMdKb0cz0/maxresdefault.jpg\n",
        "# https://th.bing.com/th/id/OIP.r3L8_KIwY4RW0NhW8pUC6wHaE8?pid=ImgDet&rs=1"
      ],
      "execution_count": null,
      "outputs": []
    }
  ]
}